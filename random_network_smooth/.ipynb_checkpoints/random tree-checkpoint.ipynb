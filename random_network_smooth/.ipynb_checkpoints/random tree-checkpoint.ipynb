{
 "cells": [
  {
   "cell_type": "code",
   "execution_count": 1,
   "metadata": {},
   "outputs": [],
   "source": [
    "import networkx as nx\n",
    "import numpy as np\n",
    "\n",
    "from IPython.display import HTML\n",
    "\n",
    "import util"
   ]
  },
  {
   "cell_type": "code",
   "execution_count": null,
   "metadata": {},
   "outputs": [
    {
     "name": "stderr",
     "output_type": "stream",
     "text": [
      "C:\\ProgramData\\Anaconda3\\lib\\site-packages\\networkx\\drawing\\nx_pylab.py:579: MatplotlibDeprecationWarning: \n",
      "The iterable function was deprecated in Matplotlib 3.1 and will be removed in 3.3. Use np.iterable instead.\n",
      "  if not cb.iterable(width):\n"
     ]
    }
   ],
   "source": [
    "G = nx.Graph()\n",
    "G.add_node(0)\n",
    "\n",
    "Gs = [G.copy()]\n",
    "\n",
    "for i in range(100):\n",
    "    new_index = i+1\n",
    "    random_vert = np.random.randint(0, len(G.node))\n",
    "    G.add_node(new_index)\n",
    "    G.add_edge(random_vert, new_index)\n",
    "    Gs.append(G.copy())\n",
    "\n",
    "\n",
    "anim = util.generate_interpolated_graph_evolution_animation(Gs, Nt=20, interval=50)\n",
    "#HTML(anim.to_html5_video())\n",
    "anim.save('smooth_random_tree_100states_20nt_50interval.mp4', fps=30, bitrate=500)"
   ]
  },
  {
   "cell_type": "code",
   "execution_count": null,
   "metadata": {},
   "outputs": [],
   "source": []
  }
 ],
 "metadata": {
  "kernelspec": {
   "display_name": "Python 3",
   "language": "python",
   "name": "python3"
  },
  "language_info": {
   "codemirror_mode": {
    "name": "ipython",
    "version": 3
   },
   "file_extension": ".py",
   "mimetype": "text/x-python",
   "name": "python",
   "nbconvert_exporter": "python",
   "pygments_lexer": "ipython3",
   "version": "3.7.4"
  }
 },
 "nbformat": 4,
 "nbformat_minor": 2
}
